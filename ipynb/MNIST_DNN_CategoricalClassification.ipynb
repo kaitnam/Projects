{
  "nbformat": 4,
  "nbformat_minor": 0,
  "metadata": {
    "colab": {
      "name": "MNIST_DNN_CategoricalClassification.ipynb",
      "provenance": [],
      "collapsed_sections": [],
      "authorship_tag": "ABX9TyMG90qhbdzdFoBRieOx112a"
    },
    "kernelspec": {
      "name": "python3",
      "display_name": "Python 3"
    },
    "language_info": {
      "name": "python"
    },
    "accelerator": "GPU"
  },
  "cells": [
    {
      "cell_type": "markdown",
      "metadata": {
        "id": "x9oPxgJ_0kim"
      },
      "source": [
        "# MNIST - Categorical Classification\n",
        "> Overfitting Issue"
      ]
    },
    {
      "cell_type": "code",
      "metadata": {
        "id": "DAMLY4SY0uDg"
      },
      "source": [
        "import warnings\n",
        "warnings.filterwarnings('ignore')"
      ],
      "execution_count": null,
      "outputs": []
    },
    {
      "cell_type": "code",
      "metadata": {
        "colab": {
          "base_uri": "https://localhost:8080/",
          "height": 35
        },
        "id": "TCnefrKe2JQg",
        "outputId": "e7dbb75a-9c2d-421c-ce92-9dd62afc1531"
      },
      "source": [
        "import tensorflow as tf\n",
        "tf.__version__"
      ],
      "execution_count": null,
      "outputs": [
        {
          "output_type": "execute_result",
          "data": {
            "application/vnd.google.colaboratory.intrinsic+json": {
              "type": "string"
            },
            "text/plain": [
              "'2.5.0'"
            ]
          },
          "metadata": {
            "tags": []
          },
          "execution_count": 2
        }
      ]
    },
    {
      "cell_type": "code",
      "metadata": {
        "colab": {
          "base_uri": "https://localhost:8080/",
          "height": 35
        },
        "id": "TW3CANjx2PC6",
        "outputId": "b6b6a2c5-9590-401c-8249-e0be5d6178c7"
      },
      "source": [
        "# GPU 설정 확인\n",
        "\n",
        "tf.test.gpu_device_name()"
      ],
      "execution_count": null,
      "outputs": [
        {
          "output_type": "execute_result",
          "data": {
            "application/vnd.google.colaboratory.intrinsic+json": {
              "type": "string"
            },
            "text/plain": [
              "'/device:GPU:0'"
            ]
          },
          "metadata": {
            "tags": []
          },
          "execution_count": 3
        }
      ]
    },
    {
      "cell_type": "markdown",
      "metadata": {
        "id": "0TK2xyP32Zi0"
      },
      "source": [
        "**l.MNIST Data Load**\n"
      ]
    },
    {
      "cell_type": "code",
      "metadata": {
        "id": "6LO6us4N2epq",
        "colab": {
          "base_uri": "https://localhost:8080/"
        },
        "outputId": "0e85a35f-a7d6-4e62-e299-3f2fa376c1b4"
      },
      "source": [
        "# Load MNIST Data_Set\n",
        "\n",
        "from tensorflow.keras.datasets import mnist\n",
        "(X_train, y_train), (X_test, y_test) = mnist.load_data()"
      ],
      "execution_count": null,
      "outputs": [
        {
          "output_type": "stream",
          "text": [
            "Downloading data from https://storage.googleapis.com/tensorflow/tf-keras-datasets/mnist.npz\n",
            "11493376/11490434 [==============================] - 0s 0us/step\n"
          ],
          "name": "stdout"
        }
      ]
    },
    {
      "cell_type": "code",
      "metadata": {
        "colab": {
          "base_uri": "https://localhost:8080/"
        },
        "id": "AraOnmJv2yDX",
        "outputId": "b1d7ee4c-ec4e-469c-bcc1-fcc0e63004dd"
      },
      "source": [
        "# Train_Data Information\n",
        "\n",
        "print(len(X_train))\n",
        "print(X_train.shape)\n",
        "\n",
        "print(len(y_train))\n",
        "print(y_train[0:5])"
      ],
      "execution_count": null,
      "outputs": [
        {
          "output_type": "stream",
          "text": [
            "60000\n",
            "(60000, 28, 28)\n",
            "60000\n",
            "[5 0 4 1 9]\n"
          ],
          "name": "stdout"
        }
      ]
    },
    {
      "cell_type": "code",
      "metadata": {
        "colab": {
          "base_uri": "https://localhost:8080/"
        },
        "id": "BabkYZAK2-C2",
        "outputId": "095ddbaf-75e3-41e6-e850-288d7ceb4b40"
      },
      "source": [
        "# Test_Data Information\n",
        "\n",
        "print(len(X_test))\n",
        "print(X_test.shape)\n",
        "\n",
        "print(len(y_test))\n",
        "print(y_test[0:5])"
      ],
      "execution_count": null,
      "outputs": [
        {
          "output_type": "stream",
          "text": [
            "10000\n",
            "(10000, 28, 28)\n",
            "10000\n",
            "[7 2 1 0 4]\n"
          ],
          "name": "stdout"
        }
      ]
    },
    {
      "cell_type": "code",
      "metadata": {
        "colab": {
          "base_uri": "https://localhost:8080/",
          "height": 265
        },
        "id": "1ifHCdl33Q9m",
        "outputId": "3e6a731f-b94a-4e2a-ba0a-3c90cc7d00f1"
      },
      "source": [
        "# Visualization\n",
        "\n",
        "import matplotlib.pyplot as plt\n",
        "\n",
        "digit = X_train[4]\n",
        "plt.imshow(digit, cmap = 'gray')\n",
        "plt.show()"
      ],
      "execution_count": null,
      "outputs": [
        {
          "output_type": "display_data",
          "data": {
            "image/png": "[encoded data removed]",
            "text/plain": [
              "<Figure size 432x288 with 1 Axes>"
            ]
          },
          "metadata": {
            "tags": [],
            "needs_background": "light"
          }
        }
      ]
    },
    {
      "cell_type": "code",
      "metadata": {
        "colab": {
          "base_uri": "https://localhost:8080/"
        },
        "id": "44Wlhy8-3bk7",
        "outputId": "160a718c-15a0-4fa0-df32-b5f2a5699f45"
      },
      "source": [
        "import numpy as np\n",
        "np.set_printoptions(linewidth = 150)\n",
        "\n",
        "print(X_train[4])"
      ],
      "execution_count": null,
      "outputs": [
        {
          "output_type": "stream",
          "text": [
            "[[  0   0   0   0   0   0   0   0   0   0   0   0   0   0   0   0   0   0   0   0   0   0   0   0   0   0   0   0]\n",
            " [  0   0   0   0   0   0   0   0   0   0   0   0   0   0   0   0   0   0   0   0   0   0   0   0   0   0   0   0]\n",
            " [  0   0   0   0   0   0   0   0   0   0   0   0   0   0   0   0   0   0   0   0   0   0   0   0   0   0   0   0]\n",
            " [  0   0   0   0   0   0   0   0   0   0   0   0   0   0   0   0   0   0   0   0   0   0   0   0   0   0   0   0]\n",
            " [  0   0   0   0   0   0   0   0   0   0   0   0   0   0   0   0   0   0   0   0   0   0   0   0   0   0   0   0]\n",
            " [  0   0   0   0   0   0   0   0   0   0   0   0   0   0   0   0   0   0   0   0   0   0   0   0   0   0   0   0]\n",
            " [  0   0   0   0   0   0   0   0   0   0   0   0   0   0   0   0   0   0   0   0   0   0   0   0   0   0   0   0]\n",
            " [  0   0   0   0   0   0   0   0   0   0   0   0  55 148 210 253 253 113  87 148  55   0   0   0   0   0   0   0]\n",
            " [  0   0   0   0   0   0   0   0   0   0   0  87 232 252 253 189 210 252 252 253 168   0   0   0   0   0   0   0]\n",
            " [  0   0   0   0   0   0   0   0   0   4  57 242 252 190  65   5  12 182 252 253 116   0   0   0   0   0   0   0]\n",
            " [  0   0   0   0   0   0   0   0   0  96 252 252 183  14   0   0  92 252 252 225  21   0   0   0   0   0   0   0]\n",
            " [  0   0   0   0   0   0   0   0 132 253 252 146  14   0   0   0 215 252 252  79   0   0   0   0   0   0   0   0]\n",
            " [  0   0   0   0   0   0   0 126 253 247 176   9   0   0   8  78 245 253 129   0   0   0   0   0   0   0   0   0]\n",
            " [  0   0   0   0   0   0  16 232 252 176   0   0   0  36 201 252 252 169  11   0   0   0   0   0   0   0   0   0]\n",
            " [  0   0   0   0   0   0  22 252 252  30  22 119 197 241 253 252 251  77   0   0   0   0   0   0   0   0   0   0]\n",
            " [  0   0   0   0   0   0  16 231 252 253 252 252 252 226 227 252 231   0   0   0   0   0   0   0   0   0   0   0]\n",
            " [  0   0   0   0   0   0   0  55 235 253 217 138  42  24 192 252 143   0   0   0   0   0   0   0   0   0   0   0]\n",
            " [  0   0   0   0   0   0   0   0   0   0   0   0   0  62 255 253 109   0   0   0   0   0   0   0   0   0   0   0]\n",
            " [  0   0   0   0   0   0   0   0   0   0   0   0   0  71 253 252  21   0   0   0   0   0   0   0   0   0   0   0]\n",
            " [  0   0   0   0   0   0   0   0   0   0   0   0   0   0 253 252  21   0   0   0   0   0   0   0   0   0   0   0]\n",
            " [  0   0   0   0   0   0   0   0   0   0   0   0   0  71 253 252  21   0   0   0   0   0   0   0   0   0   0   0]\n",
            " [  0   0   0   0   0   0   0   0   0   0   0   0   0 106 253 252  21   0   0   0   0   0   0   0   0   0   0   0]\n",
            " [  0   0   0   0   0   0   0   0   0   0   0   0   0  45 255 253  21   0   0   0   0   0   0   0   0   0   0   0]\n",
            " [  0   0   0   0   0   0   0   0   0   0   0   0   0   0 218 252  56   0   0   0   0   0   0   0   0   0   0   0]\n",
            " [  0   0   0   0   0   0   0   0   0   0   0   0   0   0  96 252 189  42   0   0   0   0   0   0   0   0   0   0]\n",
            " [  0   0   0   0   0   0   0   0   0   0   0   0   0   0  14 184 252 170  11   0   0   0   0   0   0   0   0   0]\n",
            " [  0   0   0   0   0   0   0   0   0   0   0   0   0   0   0  14 147 252  42   0   0   0   0   0   0   0   0   0]\n",
            " [  0   0   0   0   0   0   0   0   0   0   0   0   0   0   0   0   0   0   0   0   0   0   0   0   0   0   0   0]]\n"
          ],
          "name": "stdout"
        }
      ]
    },
    {
      "cell_type": "markdown",
      "metadata": {
        "id": "oLGn11zf3l5T"
      },
      "source": [
        "**ll.Data Preprocessing**"
      ]
    },
    {
      "cell_type": "code",
      "metadata": {
        "colab": {
          "base_uri": "https://localhost:8080/"
        },
        "id": "wdW08O9n3lUh",
        "outputId": "6f222b1d-f608-4184-e59b-d92eae184d46"
      },
      "source": [
        "# Reshape \n",
        "# Reshape (60000, 28, 28) to (60000, 28 * 28)\n",
        "\n",
        "X_train = X_train.reshape((60000, 28 * 28))\n",
        "X_test = X_test.reshape((10000, 28 * 28))\n",
        "\n",
        "X_train.shape, X_test.shape"
      ],
      "execution_count": null,
      "outputs": [
        {
          "output_type": "execute_result",
          "data": {
            "text/plain": [
              "((60000, 784), (10000, 784))"
            ]
          },
          "metadata": {
            "tags": []
          },
          "execution_count": 9
        }
      ]
    },
    {
      "cell_type": "code",
      "metadata": {
        "colab": {
          "base_uri": "https://localhost:8080/"
        },
        "id": "Orbau7eR4IMy",
        "outputId": "a0ab1fa3-0639-4e31-e7a5-a18e7872ee46"
      },
      "source": [
        "# Normalization\n",
        "\n",
        "X_train = X_train.astype(float) / 255\n",
        "X_test = X_test.astype(float) / 255\n",
        "\n",
        "print(X_train[4])"
      ],
      "execution_count": null,
      "outputs": [
        {
          "output_type": "stream",
          "text": [
            "[0.         0.         0.         0.         0.         0.         0.         0.         0.         0.         0.         0.         0.\n",
            " 0.         0.         0.         0.         0.         0.         0.         0.         0.         0.         0.         0.         0.\n",
            " 0.         0.         0.         0.         0.         0.         0.         0.         0.         0.         0.         0.         0.\n",
            " 0.         0.         0.         0.         0.         0.         0.         0.         0.         0.         0.         0.         0.\n",
            " 0.         0.         0.         0.         0.         0.         0.         0.         0.         0.         0.         0.         0.\n",
            " 0.         0.         0.         0.         0.         0.         0.         0.         0.         0.         0.         0.         0.\n",
            " 0.         0.         0.         0.         0.         0.         0.         0.         0.         0.         0.         0.         0.\n",
            " 0.         0.         0.         0.         0.         0.         0.         0.         0.         0.         0.         0.         0.\n",
            " 0.         0.         0.         0.         0.         0.         0.         0.         0.         0.         0.         0.         0.\n",
            " 0.         0.         0.         0.         0.         0.         0.         0.         0.         0.         0.         0.         0.\n",
            " 0.         0.         0.         0.         0.         0.         0.         0.         0.         0.         0.         0.         0.\n",
            " 0.         0.         0.         0.         0.         0.         0.         0.         0.         0.         0.         0.         0.\n",
            " 0.         0.         0.         0.         0.         0.         0.         0.         0.         0.         0.         0.         0.\n",
            " 0.         0.         0.         0.         0.         0.         0.         0.         0.         0.         0.         0.         0.\n",
            " 0.         0.         0.         0.         0.         0.         0.         0.         0.         0.         0.         0.         0.\n",
            " 0.         0.         0.         0.         0.         0.         0.         0.         0.         0.         0.         0.         0.\n",
            " 0.21568627 0.58039216 0.82352941 0.99215686 0.99215686 0.44313725 0.34117647 0.58039216 0.21568627 0.         0.         0.         0.\n",
            " 0.         0.         0.         0.         0.         0.         0.         0.         0.         0.         0.         0.         0.\n",
            " 0.         0.34117647 0.90980392 0.98823529 0.99215686 0.74117647 0.82352941 0.98823529 0.98823529 0.99215686 0.65882353 0.         0.\n",
            " 0.         0.         0.         0.         0.         0.         0.         0.         0.         0.         0.         0.         0.\n",
            " 0.         0.01568627 0.22352941 0.94901961 0.98823529 0.74509804 0.25490196 0.01960784 0.04705882 0.71372549 0.98823529 0.99215686 0.45490196\n",
            " 0.         0.         0.         0.         0.         0.         0.         0.         0.         0.         0.         0.         0.\n",
            " 0.         0.         0.         0.37647059 0.98823529 0.98823529 0.71764706 0.05490196 0.         0.         0.36078431 0.98823529 0.98823529\n",
            " 0.88235294 0.08235294 0.         0.         0.         0.         0.         0.         0.         0.         0.         0.         0.\n",
            " 0.         0.         0.         0.         0.51764706 0.99215686 0.98823529 0.57254902 0.05490196 0.         0.         0.         0.84313725\n",
            " 0.98823529 0.98823529 0.30980392 0.         0.         0.         0.         0.         0.         0.         0.         0.         0.\n",
            " 0.         0.         0.         0.         0.         0.49411765 0.99215686 0.96862745 0.69019608 0.03529412 0.         0.         0.03137255\n",
            " 0.30588235 0.96078431 0.99215686 0.50588235 0.         0.         0.         0.         0.         0.         0.         0.         0.\n",
            " 0.         0.         0.         0.         0.         0.         0.0627451  0.90980392 0.98823529 0.69019608 0.         0.         0.\n",
            " 0.14117647 0.78823529 0.98823529 0.98823529 0.6627451  0.04313725 0.         0.         0.         0.         0.         0.         0.\n",
            " 0.         0.         0.         0.         0.         0.         0.         0.         0.08627451 0.98823529 0.98823529 0.11764706 0.08627451\n",
            " 0.46666667 0.77254902 0.94509804 0.99215686 0.98823529 0.98431373 0.30196078 0.         0.         0.         0.         0.         0.\n",
            " 0.         0.         0.         0.         0.         0.         0.         0.         0.         0.         0.0627451  0.90588235 0.98823529\n",
            " 0.99215686 0.98823529 0.98823529 0.98823529 0.88627451 0.89019608 0.98823529 0.90588235 0.         0.         0.         0.         0.\n",
            " 0.         0.         0.         0.         0.         0.         0.         0.         0.         0.         0.         0.         0.\n",
            " 0.21568627 0.92156863 0.99215686 0.85098039 0.54117647 0.16470588 0.09411765 0.75294118 0.98823529 0.56078431 0.         0.         0.\n",
            " 0.         0.         0.         0.         0.         0.         0.         0.         0.         0.         0.         0.         0.\n",
            " 0.         0.         0.         0.         0.         0.         0.         0.         0.24313725 1.         0.99215686 0.42745098 0.\n",
            " 0.         0.         0.         0.         0.         0.         0.         0.         0.         0.         0.         0.         0.\n",
            " 0.         0.         0.         0.         0.         0.         0.         0.         0.         0.         0.27843137 0.99215686 0.98823529\n",
            " 0.08235294 0.         0.         0.         0.         0.         0.         0.         0.         0.         0.         0.         0.\n",
            " 0.         0.         0.         0.         0.         0.         0.         0.         0.         0.         0.         0.         0.\n",
            " 0.99215686 0.98823529 0.08235294 0.         0.         0.         0.         0.         0.         0.         0.         0.         0.\n",
            " 0.         0.         0.         0.         0.         0.         0.         0.         0.         0.         0.         0.         0.\n",
            " 0.         0.27843137 0.99215686 0.98823529 0.08235294 0.         0.         0.         0.         0.         0.         0.         0.\n",
            " 0.         0.         0.         0.         0.         0.         0.         0.         0.         0.         0.         0.         0.\n",
            " 0.         0.         0.         0.41568627 0.99215686 0.98823529 0.08235294 0.         0.         0.         0.         0.         0.\n",
            " 0.         0.         0.         0.         0.         0.         0.         0.         0.         0.         0.         0.         0.\n",
            " 0.         0.         0.         0.         0.         0.17647059 1.         0.99215686 0.08235294 0.         0.         0.         0.\n",
            " 0.         0.         0.         0.         0.         0.         0.         0.         0.         0.         0.         0.         0.\n",
            " 0.         0.         0.         0.         0.         0.         0.         0.         0.85490196 0.98823529 0.21960784 0.         0.\n",
            " 0.         0.         0.         0.         0.         0.         0.         0.         0.         0.         0.         0.         0.\n",
            " 0.         0.         0.         0.         0.         0.         0.         0.         0.         0.         0.37647059 0.98823529 0.74117647\n",
            " 0.16470588 0.         0.         0.         0.         0.         0.         0.         0.         0.         0.         0.         0.\n",
            " 0.         0.         0.         0.         0.         0.         0.         0.         0.         0.         0.         0.         0.05490196\n",
            " 0.72156863 0.98823529 0.66666667 0.04313725 0.         0.         0.         0.         0.         0.         0.         0.         0.\n",
            " 0.         0.         0.         0.         0.         0.         0.         0.         0.         0.         0.         0.         0.\n",
            " 0.         0.         0.05490196 0.57647059 0.98823529 0.16470588 0.         0.         0.         0.         0.         0.         0.\n",
            " 0.         0.         0.         0.         0.         0.         0.         0.         0.         0.         0.         0.         0.\n",
            " 0.         0.         0.         0.         0.         0.         0.         0.         0.         0.         0.         0.         0.\n",
            " 0.         0.         0.         0.        ]\n"
          ],
          "name": "stdout"
        }
      ]
    },
    {
      "cell_type": "code",
      "metadata": {
        "id": "K0Tvcn0XMRod",
        "colab": {
          "base_uri": "https://localhost:8080/"
        },
        "outputId": "7794c92d-f7d7-4e7a-87e6-1d64118abc45"
      },
      "source": [
        "# One Hot Encoding\n",
        "\n",
        "from tensorflow.keras.utils import to_categorical\n",
        "\n",
        "y_train = to_categorical(y_train)\n",
        "y_test = to_categorical(y_test)\n",
        "\n",
        "print(y_train[:5])"
      ],
      "execution_count": null,
      "outputs": [
        {
          "output_type": "stream",
          "text": [
            "[[0. 0. 0. 0. 0. 1. 0. 0. 0. 0.]\n",
            " [1. 0. 0. 0. 0. 0. 0. 0. 0. 0.]\n",
            " [0. 0. 0. 0. 1. 0. 0. 0. 0. 0.]\n",
            " [0. 1. 0. 0. 0. 0. 0. 0. 0. 0.]\n",
            " [0. 0. 0. 0. 0. 0. 0. 0. 0. 1.]]\n"
          ],
          "name": "stdout"
        }
      ]
    },
    {
      "cell_type": "markdown",
      "metadata": {
        "id": "c4m7uk6e4Uss"
      },
      "source": [
        "**lll.MNIST Keras Modeling**"
      ]
    },
    {
      "cell_type": "code",
      "metadata": {
        "id": "GSzcbvr54YvY"
      },
      "source": [
        "# 모델 신경망 구조 정의 (Model Define)\n",
        "# 2개의 Hidden Layers & 768개의 Nodes\n",
        "# 복잡한 Model Capacity로 인한 Overfitting\n",
        "\n",
        "from tensorflow.keras import models \n",
        "from tensorflow.keras import layers\n",
        "\n",
        "mnist = models.Sequential()\n",
        "mnist.add(layers.Dense(512, activation = 'relu', input_shape = (28 * 28,)))\n",
        "mnist.add(layers.Dense(256, activation = 'relu'))\n",
        "mnist.add(layers.Dense(10, activation = 'softmax'))"
      ],
      "execution_count": null,
      "outputs": []
    },
    {
      "cell_type": "code",
      "metadata": {
        "colab": {
          "base_uri": "https://localhost:8080/"
        },
        "id": "Nq8OE3BP5_em",
        "outputId": "dc477fa0-da9f-4b5e-cb56-e41af0a6b646"
      },
      "source": [
        "# 모델 구조 확인\n",
        "\n",
        "mnist.summary()"
      ],
      "execution_count": null,
      "outputs": [
        {
          "output_type": "stream",
          "text": [
            "Model: \"sequential\"\n",
            "_________________________________________________________________\n",
            "Layer (type)                 Output Shape              Param #   \n",
            "=================================================================\n",
            "dense (Dense)                (None, 512)               401920    \n",
            "_________________________________________________________________\n",
            "dense_1 (Dense)              (None, 256)               131328    \n",
            "_________________________________________________________________\n",
            "dense_2 (Dense)              (None, 10)                2570      \n",
            "=================================================================\n",
            "Total params: 535,818\n",
            "Trainable params: 535,818\n",
            "Non-trainable params: 0\n",
            "_________________________________________________________________\n"
          ],
          "name": "stdout"
        }
      ]
    },
    {
      "cell_type": "code",
      "metadata": {
        "id": "Ero9O2D46JQZ"
      },
      "source": [
        "# Model Compile\n",
        "# 모델 학습 방법 설정\n",
        "\n",
        "mnist.compile(loss = 'categorical_crossentropy',\n",
        "              optimizer = 'rmsprop', \n",
        "              metrics = ['accuracy'])"
      ],
      "execution_count": null,
      "outputs": []
    },
    {
      "cell_type": "code",
      "metadata": {
        "colab": {
          "base_uri": "https://localhost:8080/"
        },
        "id": "ts_l2-DW6cZt",
        "outputId": "b8726c63-0349-462a-bb61-f3e415f3fcc2"
      },
      "source": [
        "%%time\n",
        "\n",
        "Hist_mnist = mnist.fit(X_train, y_train, epochs = 100, \n",
        "                     batch_size = 128, validation_split = 0.2)"
      ],
      "execution_count": null,
      "outputs": [
        {
          "output_type": "stream",
          "text": [
            "Epoch 1/100\n",
            "375/375 [==============================] - 5s 4ms/step - loss: 0.2544 - accuracy: 0.9236 - val_loss: 0.1290 - val_accuracy: 0.9603\n",
            "Epoch 2/100\n",
            "375/375 [==============================] - 1s 3ms/step - loss: 0.0933 - accuracy: 0.9703 - val_loss: 0.0934 - val_accuracy: 0.9709\n",
            "Epoch 3/100\n",
            "375/375 [==============================] - 1s 4ms/step - loss: 0.0589 - accuracy: 0.9818 - val_loss: 0.0817 - val_accuracy: 0.9768\n",
            "Epoch 4/100\n",
            "375/375 [==============================] - 1s 3ms/step - loss: 0.0403 - accuracy: 0.9876 - val_loss: 0.0920 - val_accuracy: 0.9782\n",
            "Epoch 5/100\n",
            "375/375 [==============================] - 1s 3ms/step - loss: 0.0292 - accuracy: 0.9905 - val_loss: 0.0960 - val_accuracy: 0.9780\n",
            "Epoch 6/100\n",
            "375/375 [==============================] - 1s 3ms/step - loss: 0.0216 - accuracy: 0.9936 - val_loss: 0.1089 - val_accuracy: 0.9781\n",
            "Epoch 7/100\n",
            "375/375 [==============================] - 1s 3ms/step - loss: 0.0190 - accuracy: 0.9940 - val_loss: 0.1016 - val_accuracy: 0.9786\n",
            "Epoch 8/100\n",
            "375/375 [==============================] - 1s 3ms/step - loss: 0.0143 - accuracy: 0.9953 - val_loss: 0.1146 - val_accuracy: 0.9781\n",
            "Epoch 9/100\n",
            "375/375 [==============================] - 1s 4ms/step - loss: 0.0118 - accuracy: 0.9957 - val_loss: 0.1315 - val_accuracy: 0.9759\n",
            "Epoch 10/100\n",
            "375/375 [==============================] - 1s 4ms/step - loss: 0.0103 - accuracy: 0.9965 - val_loss: 0.1374 - val_accuracy: 0.9764\n",
            "Epoch 11/100\n",
            "375/375 [==============================] - 1s 4ms/step - loss: 0.0090 - accuracy: 0.9972 - val_loss: 0.1366 - val_accuracy: 0.9803\n",
            "Epoch 12/100\n",
            "375/375 [==============================] - 1s 3ms/step - loss: 0.0064 - accuracy: 0.9978 - val_loss: 0.1501 - val_accuracy: 0.9778\n",
            "Epoch 13/100\n",
            "375/375 [==============================] - 1s 4ms/step - loss: 0.0070 - accuracy: 0.9978 - val_loss: 0.1559 - val_accuracy: 0.9797\n",
            "Epoch 14/100\n",
            "375/375 [==============================] - 1s 3ms/step - loss: 0.0055 - accuracy: 0.9982 - val_loss: 0.1709 - val_accuracy: 0.9787\n",
            "Epoch 15/100\n",
            "375/375 [==============================] - 1s 4ms/step - loss: 0.0049 - accuracy: 0.9983 - val_loss: 0.1826 - val_accuracy: 0.9778\n",
            "Epoch 16/100\n",
            "375/375 [==============================] - 1s 4ms/step - loss: 0.0064 - accuracy: 0.9984 - val_loss: 0.1868 - val_accuracy: 0.9789\n",
            "Epoch 17/100\n",
            "375/375 [==============================] - 1s 3ms/step - loss: 0.0046 - accuracy: 0.9986 - val_loss: 0.1819 - val_accuracy: 0.9781\n",
            "Epoch 18/100\n",
            "375/375 [==============================] - 1s 4ms/step - loss: 0.0040 - accuracy: 0.9987 - val_loss: 0.1782 - val_accuracy: 0.9797\n",
            "Epoch 19/100\n",
            "375/375 [==============================] - 1s 3ms/step - loss: 0.0041 - accuracy: 0.9987 - val_loss: 0.2110 - val_accuracy: 0.9783\n",
            "Epoch 20/100\n",
            "375/375 [==============================] - 1s 4ms/step - loss: 0.0041 - accuracy: 0.9988 - val_loss: 0.2109 - val_accuracy: 0.9787\n",
            "Epoch 21/100\n",
            "375/375 [==============================] - 1s 3ms/step - loss: 0.0048 - accuracy: 0.9987 - val_loss: 0.2053 - val_accuracy: 0.9783\n",
            "Epoch 22/100\n",
            "375/375 [==============================] - 1s 3ms/step - loss: 0.0035 - accuracy: 0.9990 - val_loss: 0.2138 - val_accuracy: 0.9805\n",
            "Epoch 23/100\n",
            "375/375 [==============================] - 1s 3ms/step - loss: 0.0040 - accuracy: 0.9988 - val_loss: 0.2081 - val_accuracy: 0.9799\n",
            "Epoch 24/100\n",
            "375/375 [==============================] - 1s 3ms/step - loss: 0.0024 - accuracy: 0.9993 - val_loss: 0.2285 - val_accuracy: 0.9797\n",
            "Epoch 25/100\n",
            "375/375 [==============================] - 1s 3ms/step - loss: 0.0027 - accuracy: 0.9993 - val_loss: 0.2327 - val_accuracy: 0.9783\n",
            "Epoch 26/100\n",
            "375/375 [==============================] - 1s 3ms/step - loss: 0.0022 - accuracy: 0.9993 - val_loss: 0.2466 - val_accuracy: 0.9803\n",
            "Epoch 27/100\n",
            "375/375 [==============================] - 1s 3ms/step - loss: 0.0023 - accuracy: 0.9995 - val_loss: 0.2362 - val_accuracy: 0.9796\n",
            "Epoch 28/100\n",
            "375/375 [==============================] - 1s 3ms/step - loss: 0.0031 - accuracy: 0.9992 - val_loss: 0.2442 - val_accuracy: 0.9814\n",
            "Epoch 29/100\n",
            "375/375 [==============================] - 1s 4ms/step - loss: 0.0034 - accuracy: 0.9993 - val_loss: 0.2249 - val_accuracy: 0.9812\n",
            "Epoch 30/100\n",
            "375/375 [==============================] - 1s 3ms/step - loss: 0.0019 - accuracy: 0.9995 - val_loss: 0.2752 - val_accuracy: 0.9801\n",
            "Epoch 31/100\n",
            "375/375 [==============================] - 1s 3ms/step - loss: 0.0038 - accuracy: 0.9990 - val_loss: 0.2492 - val_accuracy: 0.9804\n",
            "Epoch 32/100\n",
            "375/375 [==============================] - 1s 3ms/step - loss: 0.0030 - accuracy: 0.9992 - val_loss: 0.2802 - val_accuracy: 0.9789\n",
            "Epoch 33/100\n",
            "375/375 [==============================] - 1s 4ms/step - loss: 0.0020 - accuracy: 0.9995 - val_loss: 0.2417 - val_accuracy: 0.9814\n",
            "Epoch 34/100\n",
            "375/375 [==============================] - 1s 4ms/step - loss: 0.0019 - accuracy: 0.9995 - val_loss: 0.2674 - val_accuracy: 0.9803\n",
            "Epoch 35/100\n",
            "375/375 [==============================] - 1s 3ms/step - loss: 0.0017 - accuracy: 0.9995 - val_loss: 0.2750 - val_accuracy: 0.9808\n",
            "Epoch 36/100\n",
            "375/375 [==============================] - 1s 3ms/step - loss: 0.0030 - accuracy: 0.9993 - val_loss: 0.2872 - val_accuracy: 0.9802\n",
            "Epoch 37/100\n",
            "375/375 [==============================] - 1s 3ms/step - loss: 0.0021 - accuracy: 0.9995 - val_loss: 0.2574 - val_accuracy: 0.9826\n",
            "Epoch 38/100\n",
            "375/375 [==============================] - 1s 3ms/step - loss: 6.6482e-04 - accuracy: 0.9999 - val_loss: 0.2955 - val_accuracy: 0.9796\n",
            "Epoch 39/100\n",
            "375/375 [==============================] - 1s 3ms/step - loss: 0.0019 - accuracy: 0.9997 - val_loss: 0.2858 - val_accuracy: 0.9806\n",
            "Epoch 40/100\n",
            "375/375 [==============================] - 1s 3ms/step - loss: 0.0020 - accuracy: 0.9995 - val_loss: 0.3392 - val_accuracy: 0.9783\n",
            "Epoch 41/100\n",
            "375/375 [==============================] - 1s 4ms/step - loss: 0.0027 - accuracy: 0.9995 - val_loss: 0.2984 - val_accuracy: 0.9803\n",
            "Epoch 42/100\n",
            "375/375 [==============================] - 1s 3ms/step - loss: 0.0022 - accuracy: 0.9995 - val_loss: 0.2966 - val_accuracy: 0.9788\n",
            "Epoch 43/100\n",
            "375/375 [==============================] - 1s 3ms/step - loss: 0.0013 - accuracy: 0.9995 - val_loss: 0.3122 - val_accuracy: 0.9806\n",
            "Epoch 44/100\n",
            "375/375 [==============================] - 1s 4ms/step - loss: 9.6188e-04 - accuracy: 0.9997 - val_loss: 0.2948 - val_accuracy: 0.9816\n",
            "Epoch 45/100\n",
            "375/375 [==============================] - 1s 3ms/step - loss: 0.0022 - accuracy: 0.9995 - val_loss: 0.3521 - val_accuracy: 0.9774\n",
            "Epoch 46/100\n",
            "375/375 [==============================] - 1s 3ms/step - loss: 0.0013 - accuracy: 0.9997 - val_loss: 0.3211 - val_accuracy: 0.9802\n",
            "Epoch 47/100\n",
            "375/375 [==============================] - 1s 4ms/step - loss: 0.0025 - accuracy: 0.9995 - val_loss: 0.3340 - val_accuracy: 0.9797\n",
            "Epoch 48/100\n",
            "375/375 [==============================] - 1s 3ms/step - loss: 0.0015 - accuracy: 0.9997 - val_loss: 0.3186 - val_accuracy: 0.9803\n",
            "Epoch 49/100\n",
            "375/375 [==============================] - 1s 3ms/step - loss: 0.0023 - accuracy: 0.9995 - val_loss: 0.3572 - val_accuracy: 0.9787\n",
            "Epoch 50/100\n",
            "375/375 [==============================] - 1s 3ms/step - loss: 0.0028 - accuracy: 0.9995 - val_loss: 0.3242 - val_accuracy: 0.9818\n",
            "Epoch 51/100\n",
            "375/375 [==============================] - 1s 3ms/step - loss: 0.0012 - accuracy: 0.9997 - val_loss: 0.3325 - val_accuracy: 0.9816\n",
            "Epoch 52/100\n",
            "375/375 [==============================] - 1s 3ms/step - loss: 9.1265e-04 - accuracy: 0.9998 - val_loss: 0.3265 - val_accuracy: 0.9821\n",
            "Epoch 53/100\n",
            "375/375 [==============================] - 1s 4ms/step - loss: 9.5227e-04 - accuracy: 0.9998 - val_loss: 0.3323 - val_accuracy: 0.9813\n",
            "Epoch 54/100\n",
            "375/375 [==============================] - 1s 3ms/step - loss: 5.8142e-04 - accuracy: 0.9998 - val_loss: 0.3311 - val_accuracy: 0.9815\n",
            "Epoch 55/100\n",
            "375/375 [==============================] - 1s 3ms/step - loss: 0.0013 - accuracy: 0.9998 - val_loss: 0.3196 - val_accuracy: 0.9821\n",
            "Epoch 56/100\n",
            "375/375 [==============================] - 1s 3ms/step - loss: 3.3241e-04 - accuracy: 0.9999 - val_loss: 0.3279 - val_accuracy: 0.9831\n",
            "Epoch 57/100\n",
            "375/375 [==============================] - 1s 4ms/step - loss: 0.0012 - accuracy: 0.9997 - val_loss: 0.3259 - val_accuracy: 0.9815\n",
            "Epoch 58/100\n",
            "375/375 [==============================] - 1s 4ms/step - loss: 6.4368e-04 - accuracy: 0.9999 - val_loss: 0.3760 - val_accuracy: 0.9797\n",
            "Epoch 59/100\n",
            "375/375 [==============================] - 1s 3ms/step - loss: 0.0011 - accuracy: 0.9998 - val_loss: 0.3520 - val_accuracy: 0.9817\n",
            "Epoch 60/100\n",
            "375/375 [==============================] - 1s 4ms/step - loss: 8.9618e-04 - accuracy: 0.9998 - val_loss: 0.3620 - val_accuracy: 0.9811\n",
            "Epoch 61/100\n",
            "375/375 [==============================] - 1s 3ms/step - loss: 2.3995e-04 - accuracy: 0.9999 - val_loss: 0.3507 - val_accuracy: 0.9818\n",
            "Epoch 62/100\n",
            "375/375 [==============================] - 1s 3ms/step - loss: 5.0142e-04 - accuracy: 0.9999 - val_loss: 0.3290 - val_accuracy: 0.9832\n",
            "Epoch 63/100\n",
            "375/375 [==============================] - 1s 3ms/step - loss: 0.0017 - accuracy: 0.9997 - val_loss: 0.3240 - val_accuracy: 0.9822\n",
            "Epoch 64/100\n",
            "375/375 [==============================] - 1s 3ms/step - loss: 7.7506e-04 - accuracy: 0.9998 - val_loss: 0.3571 - val_accuracy: 0.9801\n",
            "Epoch 65/100\n",
            "375/375 [==============================] - 1s 3ms/step - loss: 8.6003e-04 - accuracy: 0.9998 - val_loss: 0.3591 - val_accuracy: 0.9809\n",
            "Epoch 66/100\n",
            "375/375 [==============================] - 1s 3ms/step - loss: 3.6376e-04 - accuracy: 0.9999 - val_loss: 0.3697 - val_accuracy: 0.9810\n",
            "Epoch 67/100\n",
            "375/375 [==============================] - 1s 3ms/step - loss: 3.5078e-04 - accuracy: 0.9999 - val_loss: 0.3556 - val_accuracy: 0.9823\n",
            "Epoch 68/100\n",
            "375/375 [==============================] - 1s 4ms/step - loss: 7.6232e-04 - accuracy: 0.9999 - val_loss: 0.3723 - val_accuracy: 0.9823\n",
            "Epoch 69/100\n",
            "375/375 [==============================] - 1s 3ms/step - loss: 0.0011 - accuracy: 0.9998 - val_loss: 0.3784 - val_accuracy: 0.9812\n",
            "Epoch 70/100\n",
            "375/375 [==============================] - 1s 4ms/step - loss: 4.7065e-05 - accuracy: 1.0000 - val_loss: 0.3910 - val_accuracy: 0.9808\n",
            "Epoch 71/100\n",
            "375/375 [==============================] - 1s 3ms/step - loss: 6.4454e-04 - accuracy: 0.9999 - val_loss: 0.4132 - val_accuracy: 0.9803\n",
            "Epoch 72/100\n",
            "375/375 [==============================] - 1s 3ms/step - loss: 0.0011 - accuracy: 0.9998 - val_loss: 0.3968 - val_accuracy: 0.9817\n",
            "Epoch 73/100\n",
            "375/375 [==============================] - 1s 3ms/step - loss: 2.4542e-04 - accuracy: 0.9999 - val_loss: 0.3649 - val_accuracy: 0.9824\n",
            "Epoch 74/100\n",
            "375/375 [==============================] - 1s 4ms/step - loss: 2.5472e-04 - accuracy: 1.0000 - val_loss: 0.3762 - val_accuracy: 0.9827\n",
            "Epoch 75/100\n",
            "375/375 [==============================] - 1s 4ms/step - loss: 2.1078e-04 - accuracy: 0.9999 - val_loss: 0.3899 - val_accuracy: 0.9827\n",
            "Epoch 76/100\n",
            "375/375 [==============================] - 1s 3ms/step - loss: 6.6187e-04 - accuracy: 0.9999 - val_loss: 0.3971 - val_accuracy: 0.9818\n",
            "Epoch 77/100\n",
            "375/375 [==============================] - 1s 3ms/step - loss: 4.3257e-04 - accuracy: 0.9999 - val_loss: 0.4208 - val_accuracy: 0.9798\n",
            "Epoch 78/100\n",
            "375/375 [==============================] - 1s 4ms/step - loss: 0.0018 - accuracy: 0.9998 - val_loss: 0.4001 - val_accuracy: 0.9808\n",
            "Epoch 79/100\n",
            "375/375 [==============================] - 1s 3ms/step - loss: 2.8919e-04 - accuracy: 0.9999 - val_loss: 0.3764 - val_accuracy: 0.9815\n",
            "Epoch 80/100\n",
            "375/375 [==============================] - 1s 3ms/step - loss: 7.7497e-04 - accuracy: 0.9999 - val_loss: 0.4109 - val_accuracy: 0.9799\n",
            "Epoch 81/100\n",
            "375/375 [==============================] - 1s 3ms/step - loss: 4.8809e-04 - accuracy: 0.9999 - val_loss: 0.3787 - val_accuracy: 0.9833\n",
            "Epoch 82/100\n",
            "375/375 [==============================] - 1s 4ms/step - loss: 3.3299e-04 - accuracy: 0.9999 - val_loss: 0.4149 - val_accuracy: 0.9805\n",
            "Epoch 83/100\n",
            "375/375 [==============================] - 1s 3ms/step - loss: 3.1315e-04 - accuracy: 0.9999 - val_loss: 0.3841 - val_accuracy: 0.9813\n",
            "Epoch 84/100\n",
            "375/375 [==============================] - 1s 3ms/step - loss: 8.9566e-05 - accuracy: 1.0000 - val_loss: 0.3976 - val_accuracy: 0.9809\n",
            "Epoch 85/100\n",
            "375/375 [==============================] - 1s 4ms/step - loss: 2.5652e-04 - accuracy: 0.9999 - val_loss: 0.4257 - val_accuracy: 0.9802\n",
            "Epoch 86/100\n",
            "375/375 [==============================] - 1s 3ms/step - loss: 1.7720e-06 - accuracy: 1.0000 - val_loss: 0.4139 - val_accuracy: 0.9808\n",
            "Epoch 87/100\n",
            "375/375 [==============================] - 1s 3ms/step - loss: 2.1435e-04 - accuracy: 0.9999 - val_loss: 0.4069 - val_accuracy: 0.9805\n",
            "Epoch 88/100\n",
            "375/375 [==============================] - 1s 4ms/step - loss: 4.9381e-04 - accuracy: 0.9999 - val_loss: 0.4017 - val_accuracy: 0.9813\n",
            "Epoch 89/100\n",
            "375/375 [==============================] - 1s 3ms/step - loss: 3.9384e-04 - accuracy: 0.9999 - val_loss: 0.3939 - val_accuracy: 0.9808\n",
            "Epoch 90/100\n",
            "375/375 [==============================] - 1s 4ms/step - loss: 3.8686e-04 - accuracy: 0.9999 - val_loss: 0.3856 - val_accuracy: 0.9824\n",
            "Epoch 91/100\n",
            "375/375 [==============================] - 1s 3ms/step - loss: 1.8503e-05 - accuracy: 1.0000 - val_loss: 0.3850 - val_accuracy: 0.9817\n",
            "Epoch 92/100\n",
            "375/375 [==============================] - 1s 4ms/step - loss: 2.8319e-08 - accuracy: 1.0000 - val_loss: 0.3847 - val_accuracy: 0.9818\n",
            "Epoch 93/100\n",
            "375/375 [==============================] - 1s 3ms/step - loss: 2.3593e-10 - accuracy: 1.0000 - val_loss: 0.3862 - val_accuracy: 0.9818\n",
            "Epoch 94/100\n",
            "375/375 [==============================] - 1s 4ms/step - loss: 3.7253e-11 - accuracy: 1.0000 - val_loss: 0.3861 - val_accuracy: 0.9818\n",
            "Epoch 95/100\n",
            "375/375 [==============================] - 1s 3ms/step - loss: 2.7319e-11 - accuracy: 1.0000 - val_loss: 0.3860 - val_accuracy: 0.9817\n",
            "Epoch 96/100\n",
            "375/375 [==============================] - 1s 4ms/step - loss: 9.9341e-12 - accuracy: 1.0000 - val_loss: 0.3859 - val_accuracy: 0.9817\n",
            "Epoch 97/100\n",
            "375/375 [==============================] - 1s 3ms/step - loss: 4.9671e-12 - accuracy: 1.0000 - val_loss: 0.3859 - val_accuracy: 0.9817\n",
            "Epoch 98/100\n",
            "375/375 [==============================] - 1s 4ms/step - loss: 4.9671e-12 - accuracy: 1.0000 - val_loss: 0.3859 - val_accuracy: 0.9817\n",
            "Epoch 99/100\n",
            "375/375 [==============================] - 1s 3ms/step - loss: 2.4835e-12 - accuracy: 1.0000 - val_loss: 0.3859 - val_accuracy: 0.9818\n",
            "Epoch 100/100\n",
            "375/375 [==============================] - 1s 3ms/step - loss: 2.4835e-12 - accuracy: 1.0000 - val_loss: 0.3858 - val_accuracy: 0.9818\n",
            "CPU times: user 2min 17s, sys: 17.4 s, total: 2min 34s\n",
            "Wall time: 2min 11s\n"
          ],
          "name": "stdout"
        }
      ]
    },
    {
      "cell_type": "code",
      "metadata": {
        "colab": {
          "base_uri": "https://localhost:8080/",
          "height": 404
        },
        "id": "njvs9pbx8L7T",
        "outputId": "472bfe23-a209-4830-895e-6bb41cec5b28"
      },
      "source": [
        "# 학습 결과 시각화 - Overfitting\n",
        "# Loss Visualization\n",
        "\n",
        "import matplotlib.pyplot as plt\n",
        "\n",
        "epochs = range(1, len(Hist_mnist.history['loss']) + 1)\n",
        "\n",
        "plt.figure(figsize = (9, 6))\n",
        "plt.plot(epochs, Hist_mnist.history['loss'])\n",
        "plt.plot(epochs, Hist_mnist.history['val_loss'])\n",
        "# plt.ylim(0, 0.25)\n",
        "plt.title('Training & Validation Loss')\n",
        "plt.xlabel('Epochs')\n",
        "plt.ylabel('Loss')\n",
        "plt.legend(['Training Loss', 'Validation Loss'])\n",
        "plt.grid()\n",
        "plt.show()"
      ],
      "execution_count": null,
      "outputs": [
        {
          "output_type": "display_data",
          "data": {
            "image/png": "[encoded data removed]",
            "text/plain": [
              "<Figure size 648x432 with 1 Axes>"
            ]
          },
          "metadata": {
            "tags": [],
            "needs_background": "light"
          }
        }
      ]
    },
    {
      "cell_type": "code",
      "metadata": {
        "colab": {
          "base_uri": "https://localhost:8080/"
        },
        "id": "RSAW6dS688r9",
        "outputId": "8edc9b85-aa37-4082-8bb9-a2e367775537"
      },
      "source": [
        "# Model Evaluate\n",
        "# Loss & Accuracy\n",
        "\n",
        "loss, accuracy = mnist.evaluate(X_test, y_test)\n",
        "\n",
        "print('Loss = {:.5f}'.format(loss))\n",
        "print('Accuracy = {:.5f}'.format(accuracy))"
      ],
      "execution_count": null,
      "outputs": [
        {
          "output_type": "stream",
          "text": [
            "313/313 [==============================] - 1s 2ms/step - loss: 0.2837 - accuracy: 0.9847\n",
            "Loss = 0.28374\n",
            "Accuracy = 0.98470\n"
          ],
          "name": "stdout"
        }
      ]
    },
    {
      "cell_type": "code",
      "metadata": {
        "colab": {
          "base_uri": "https://localhost:8080/"
        },
        "id": "8NyS8g9z9WfJ",
        "outputId": "55696f6a-9f9e-4022-bee0-5699ac723c24"
      },
      "source": [
        "# Model Predict\n",
        "# Probability\n",
        "\n",
        "np.set_printoptions(suppress = True, precision = 9)\n",
        "\n",
        "print(mnist.predict(X_test[:1,:]))"
      ],
      "execution_count": null,
      "outputs": [
        {
          "output_type": "stream",
          "text": [
            "[[0. 0. 0. 0. 0. 0. 0. 1. 0. 0.]]\n"
          ],
          "name": "stdout"
        }
      ]
    },
    {
      "cell_type": "code",
      "metadata": {
        "colab": {
          "base_uri": "https://localhost:8080/"
        },
        "id": "jfJQcBIV9j2c",
        "outputId": "4a680829-5236-4212-f18b-859540509f66"
      },
      "source": [
        "# class\n",
        "\n",
        "print(mnist.predict_classes(X_test[:1,:]))"
      ],
      "execution_count": null,
      "outputs": [
        {
          "output_type": "stream",
          "text": [
            "[7]\n"
          ],
          "name": "stdout"
        }
      ]
    }
  ]
}