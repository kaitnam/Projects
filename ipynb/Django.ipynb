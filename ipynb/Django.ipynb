{
 "cells": [
  {
   "cell_type": "markdown",
   "id": "f9af3ebb",
   "metadata": {},
   "source": [
    "## Django 사용하여 html에 출력"
   ]
  },
  {
   "cell_type": "markdown",
   "id": "970ca890",
   "metadata": {},
   "source": [
    "### view.py"
   ]
  },
  {
   "cell_type": "code",
   "execution_count": null,
   "id": "9596d679",
   "metadata": {},
   "outputs": [],
   "source": [
    "from .models import Nutrition, Foodimage, Foodlist\n",
    "from user.models import *\n",
    "from django.core.files.storage import FileSystemStorage\n",
    "from django.http.response import HttpResponse\n",
    "from django.shortcuts import render, redirect\n",
    "from django.db.models import Q\n",
    "import os, json, datetime\n",
    "from django.db.models import Sum\n",
    "\n",
    "\n",
    "# Create your views here.\n",
    "def main(request):\n",
    "    # try:\n",
    "    #     if request.session['user']:\n",
    "            if request.method == 'POST':\n",
    "                mainTime = request.POST['mainDate']\n",
    "            else:\n",
    "                mainTime = datetime.datetime.now().strftime(\"%Y-%m-%d\")\n",
    "                # current = datetime.datetime.now().strftime(\"%Y-%m-%d\")\n",
    "            user = User.objects.get(user_name=request.session['user'])\n",
    "            ## 총 섭취 칼로리\n",
    "            BMI = user.userWeight / ((user.userHeight/100) ** 2) # BMI \n",
    "            # 과체중 이상 (BMI >= 25 : 과체중, BMI >= 30 비만)\n",
    "            if(BMI >= 25): \n",
    "                std_weight = user.userWeight * 30 - 250\n",
    "            # 과체중 이하\n",
    "            else :\n",
    "                std_weight = (user.userHeight-100)*0.9 * 30 # 표준체중 (편집됨) \n",
    "\n",
    "            ## 아침 식단\n",
    "            Breakfast_final = []\n",
    "            Breakfast_image_final = []\n",
    "            Breakfast_images = Foodimage.objects.filter(Q(user_name = request.session['user']) & Q(eatDate=mainTime) & Q(eatTime='B')&Q(isDeleted=0))\n",
    "            for Breakfast_image in Breakfast_images:\n",
    "                Breakfast_list = Foodlist.objects.filter(fileSeq=Breakfast_image.fileSeq)\n",
    "                Breakfast_image_final.append({\"BreakfastImage\" : Breakfast_image.foodImg})\n",
    "                for Breakfast in Breakfast_list:\n",
    "                    gram = float(Breakfast.food_id.에너지_field)*float(Breakfast.food_gram/float(Breakfast.food_id.number_1회_제공량_g_field))\n",
    "                    Breakfast_final.append({\"name\": Breakfast.food_id.food_name, 'gram': Breakfast.food_gram, 'cal': round(gram,2)})\n",
    "\n",
    "            ## 점심 식단\n",
    "            Lunch_final = []\n",
    "            Lunch_image_final = []\n",
    "            Lunch_images = Foodimage.objects.filter(Q(user_name = request.session['user']) & Q(eatDate=mainTime) & Q(eatTime='L')&Q(isDeleted=0))\n",
    "            for Lunch_image in Lunch_images:\n",
    "                Lunch_list = Foodlist.objects.filter(fileSeq=Lunch_image.fileSeq)\n",
    "                Lunch_image_final.append({\"LunchImage\" : Lunch_image.foodImg})\n",
    "                for Lunch in Lunch_list:\n",
    "                    gram = float(Lunch.food_id.에너지_field)*float(Lunch.food_gram/float(Lunch.food_id.number_1회_제공량_g_field))\n",
    "                    Lunch_final.append({\"name\": Lunch.food_id.food_name, 'gram': Lunch.food_gram, 'cal': round(gram,2)})\n",
    "\n",
    "            ## 저녁 식단\n",
    "            Dinner_final = []\n",
    "            Dinner_image_final = []\n",
    "            Dinner_images = Foodimage.objects.filter(Q(user_name = request.session['user']) & Q(eatDate=mainTime) & Q(eatTime='D')&Q(isDeleted=0))\n",
    "            for Dinner_image in Dinner_images:\n",
    "                Dinner_list = Foodlist.objects.filter(fileSeq=Dinner_image.fileSeq)\n",
    "                Dinner_image_final.append({\"DinnerImage\" : Dinner_image.foodImg})\n",
    "                for Dinner in Dinner_list:\n",
    "                    gram = float(Dinner.food_id.에너지_field)*float(Dinner.food_gram/float(Dinner.food_id.number_1회_제공량_g_field))\n",
    "                    Dinner_final.append({\"name\": Dinner.food_id.food_name, 'gram': Dinner.food_gram, 'cal': round(gram,2)})\n",
    "\n",
    "            ## 하루 섭취 영양 성분\n",
    "            \n",
    "            image_file = Foodimage.objects.filter(Q(user_name = request.session['user'])&Q(eatDate=mainTime)&Q(isDeleted=0))\n",
    "\n",
    "            단백질=0; 탄수화물=0; 지방=0; 에너지=0\n",
    "            for image in image_file:\n",
    "                food_list = Foodlist.objects.filter(fileSeq=image.fileSeq)\n",
    "                for food in food_list:\n",
    "                    nutrition = Nutrition.objects.filter(food_id = food.food_id.food_id)#foodlist의 food_id 값을 가져왔음\n",
    "\n",
    "                    섭취량 = nutrition[0].number_1회_제공량_g_field\n",
    "                    단백질 += (float(nutrition[0].단백질_g_field) * (int(food.food_gram)/int(섭취량)))\n",
    "                    탄수화물 += (float(nutrition[0].탄수화물_g_field) * (int(food.food_gram)/int(섭취량)))\n",
    "                    지방 += (float(nutrition[0].지방_g_field) * (int(food.food_gram)/int(섭취량)))\n",
    "                    에너지 += (float(nutrition[0].에너지_field) * (int(food.food_gram)/int(섭취량)))\n",
    "\n",
    " \n",
    "            contents = {'기준에너지': std_weight, '에너지': round(에너지,2), '단백질' : round(단백질,2), '탄수화물': round(탄수화물,2), '지방' : round(지방, 2),\n",
    "                         'mainTime': mainTime, 'Breakfast': Breakfast_final, 'Lunch' : Lunch_final, 'Dinner' : Dinner_final,\n",
    "                         'BreakfastImage' : Breakfast_image_final, 'LunchImage' : Lunch_image_final, 'DinnerImage' : Dinner_image_final}\n",
    "            return render(request, 'main/main.html',contents)"
   ]
  },
  {
   "cell_type": "markdown",
   "id": "54801dce",
   "metadata": {},
   "source": [
    "### urls.py"
   ]
  },
  {
   "cell_type": "code",
   "execution_count": null,
   "id": "c318542e",
   "metadata": {},
   "outputs": [],
   "source": [
    "from django.urls import path\n",
    "from . import views\n",
    "\n",
    "# app_name = 'main'\n",
    "\n",
    "urlpatterns = [\n",
    "    # path('', views.home, name='home'),\n",
    "    # path('signin', views.signin, name='signin'),\n",
    "    # path('signup', views.signup, name='signup'),\n",
    "    path('', views.main, name=\"main\"),\n",
    "    path('search', views.search, name='search'),\n",
    "    path('upload', views.upload, name='upload'),\n",
    "    path('analyze', views.analyze, name='analyze'),\n",
    "    path('warning', views.warning, name='warning')\n",
    "]"
   ]
  }
 ],
 "metadata": {
  "kernelspec": {
   "display_name": "Python 3",
   "language": "python",
   "name": "python3"
  },
  "language_info": {
   "codemirror_mode": {
    "name": "ipython",
    "version": 3
   },
   "file_extension": ".py",
   "mimetype": "text/x-python",
   "name": "python",
   "nbconvert_exporter": "python",
   "pygments_lexer": "ipython3",
   "version": "3.8.8"
  }
 },
 "nbformat": 4,
 "nbformat_minor": 5
}
