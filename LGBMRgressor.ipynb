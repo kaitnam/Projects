{
 "cells": [
  {
   "cell_type": "code",
   "execution_count": 63,
   "id": "3cbffab6",
   "metadata": {},
   "outputs": [],
   "source": [
    "import pandas as pd"
   ]
  },
  {
   "cell_type": "code",
   "execution_count": 64,
   "id": "b094acb3",
   "metadata": {},
   "outputs": [
    {
     "data": {
      "text/html": [
       "<div>\n",
       "<style scoped>\n",
       "    .dataframe tbody tr th:only-of-type {\n",
       "        vertical-align: middle;\n",
       "    }\n",
       "\n",
       "    .dataframe tbody tr th {\n",
       "        vertical-align: top;\n",
       "    }\n",
       "\n",
       "    .dataframe thead th {\n",
       "        text-align: right;\n",
       "    }\n",
       "</style>\n",
       "<table border=\"1\" class=\"dataframe\">\n",
       "  <thead>\n",
       "    <tr style=\"text-align: right;\">\n",
       "      <th></th>\n",
       "      <th>date</th>\n",
       "      <th>mosquito</th>\n",
       "      <th>temp</th>\n",
       "      <th>rain_per_day</th>\n",
       "      <th>accum_rain</th>\n",
       "      <th>wind</th>\n",
       "      <th>humidity</th>\n",
       "      <th>sunshine</th>\n",
       "    </tr>\n",
       "  </thead>\n",
       "  <tbody>\n",
       "    <tr>\n",
       "      <th>0</th>\n",
       "      <td>2015-04-06</td>\n",
       "      <td>199</td>\n",
       "      <td>12.214286</td>\n",
       "      <td>5.285714</td>\n",
       "      <td>0</td>\n",
       "      <td>3.371429</td>\n",
       "      <td>68.757143</td>\n",
       "      <td>8.880000</td>\n",
       "    </tr>\n",
       "    <tr>\n",
       "      <th>1</th>\n",
       "      <td>2015-04-07</td>\n",
       "      <td>146</td>\n",
       "      <td>11.571429</td>\n",
       "      <td>4.928571</td>\n",
       "      <td>0</td>\n",
       "      <td>3.428571</td>\n",
       "      <td>65.742857</td>\n",
       "      <td>9.891429</td>\n",
       "    </tr>\n",
       "    <tr>\n",
       "      <th>2</th>\n",
       "      <td>2015-04-08</td>\n",
       "      <td>90</td>\n",
       "      <td>10.914286</td>\n",
       "      <td>4.571429</td>\n",
       "      <td>0</td>\n",
       "      <td>3.257143</td>\n",
       "      <td>63.542857</td>\n",
       "      <td>9.927143</td>\n",
       "    </tr>\n",
       "    <tr>\n",
       "      <th>3</th>\n",
       "      <td>2015-04-09</td>\n",
       "      <td>172</td>\n",
       "      <td>10.171429</td>\n",
       "      <td>0.571429</td>\n",
       "      <td>0</td>\n",
       "      <td>2.871429</td>\n",
       "      <td>59.614286</td>\n",
       "      <td>10.884286</td>\n",
       "    </tr>\n",
       "    <tr>\n",
       "      <th>4</th>\n",
       "      <td>2015-04-10</td>\n",
       "      <td>249</td>\n",
       "      <td>10.314286</td>\n",
       "      <td>0.071429</td>\n",
       "      <td>0</td>\n",
       "      <td>2.871429</td>\n",
       "      <td>53.485714</td>\n",
       "      <td>12.777143</td>\n",
       "    </tr>\n",
       "  </tbody>\n",
       "</table>\n",
       "</div>"
      ],
      "text/plain": [
       "         date  mosquito       temp  rain_per_day  accum_rain      wind  \\\n",
       "0  2015-04-06       199  12.214286      5.285714           0  3.371429   \n",
       "1  2015-04-07       146  11.571429      4.928571           0  3.428571   \n",
       "2  2015-04-08        90  10.914286      4.571429           0  3.257143   \n",
       "3  2015-04-09       172  10.171429      0.571429           0  2.871429   \n",
       "4  2015-04-10       249  10.314286      0.071429           0  2.871429   \n",
       "\n",
       "    humidity   sunshine  \n",
       "0  68.757143   8.880000  \n",
       "1  65.742857   9.891429  \n",
       "2  63.542857   9.927143  \n",
       "3  59.614286  10.884286  \n",
       "4  53.485714  12.777143  "
      ]
     },
     "execution_count": 64,
     "metadata": {},
     "output_type": "execute_result"
    }
   ],
   "source": [
    "df = pd.read_csv(\"E:/21KDT-Project-master/4. dms_seoul_avg.csv\")\n",
    "df.head()"
   ]
  },
  {
   "cell_type": "code",
   "execution_count": 65,
   "id": "45ef56ea",
   "metadata": {},
   "outputs": [
    {
     "data": {
      "text/html": [
       "<div>\n",
       "<style scoped>\n",
       "    .dataframe tbody tr th:only-of-type {\n",
       "        vertical-align: middle;\n",
       "    }\n",
       "\n",
       "    .dataframe tbody tr th {\n",
       "        vertical-align: top;\n",
       "    }\n",
       "\n",
       "    .dataframe thead th {\n",
       "        text-align: right;\n",
       "    }\n",
       "</style>\n",
       "<table border=\"1\" class=\"dataframe\">\n",
       "  <thead>\n",
       "    <tr style=\"text-align: right;\">\n",
       "      <th></th>\n",
       "      <th>mosquito</th>\n",
       "      <th>temp</th>\n",
       "      <th>rain_per_day</th>\n",
       "      <th>accum_rain</th>\n",
       "      <th>wind</th>\n",
       "      <th>humidity</th>\n",
       "      <th>sunshine</th>\n",
       "    </tr>\n",
       "  </thead>\n",
       "  <tbody>\n",
       "    <tr>\n",
       "      <th>0</th>\n",
       "      <td>-1.279234</td>\n",
       "      <td>-2.015842</td>\n",
       "      <td>0.078619</td>\n",
       "      <td>-0.353865</td>\n",
       "      <td>2.645087</td>\n",
       "      <td>0.527952</td>\n",
       "      <td>-1.572297</td>\n",
       "    </tr>\n",
       "    <tr>\n",
       "      <th>1</th>\n",
       "      <td>-1.300858</td>\n",
       "      <td>-2.151781</td>\n",
       "      <td>0.029241</td>\n",
       "      <td>-0.353865</td>\n",
       "      <td>2.768611</td>\n",
       "      <td>0.231246</td>\n",
       "      <td>-1.340929</td>\n",
       "    </tr>\n",
       "    <tr>\n",
       "      <th>2</th>\n",
       "      <td>-1.323707</td>\n",
       "      <td>-2.290741</td>\n",
       "      <td>-0.020137</td>\n",
       "      <td>-0.353865</td>\n",
       "      <td>2.398040</td>\n",
       "      <td>0.014692</td>\n",
       "      <td>-1.332759</td>\n",
       "    </tr>\n",
       "    <tr>\n",
       "      <th>3</th>\n",
       "      <td>-1.290250</td>\n",
       "      <td>-2.447826</td>\n",
       "      <td>-0.573167</td>\n",
       "      <td>-0.353865</td>\n",
       "      <td>1.564257</td>\n",
       "      <td>-0.372010</td>\n",
       "      <td>-1.113808</td>\n",
       "    </tr>\n",
       "    <tr>\n",
       "      <th>4</th>\n",
       "      <td>-1.258833</td>\n",
       "      <td>-2.417617</td>\n",
       "      <td>-0.642296</td>\n",
       "      <td>-0.353865</td>\n",
       "      <td>1.564257</td>\n",
       "      <td>-0.975265</td>\n",
       "      <td>-0.680809</td>\n",
       "    </tr>\n",
       "  </tbody>\n",
       "</table>\n",
       "</div>"
      ],
      "text/plain": [
       "   mosquito      temp  rain_per_day  accum_rain      wind  humidity  sunshine\n",
       "0 -1.279234 -2.015842      0.078619   -0.353865  2.645087  0.527952 -1.572297\n",
       "1 -1.300858 -2.151781      0.029241   -0.353865  2.768611  0.231246 -1.340929\n",
       "2 -1.323707 -2.290741     -0.020137   -0.353865  2.398040  0.014692 -1.332759\n",
       "3 -1.290250 -2.447826     -0.573167   -0.353865  1.564257 -0.372010 -1.113808\n",
       "4 -1.258833 -2.417617     -0.642296   -0.353865  1.564257 -0.975265 -0.680809"
      ]
     },
     "execution_count": 65,
     "metadata": {},
     "output_type": "execute_result"
    }
   ],
   "source": [
    "# 표준화\n",
    "\n",
    "from sklearn.preprocessing import StandardScaler\n",
    "features = ['mosquito','temp','rain_per_day','accum_rain','wind','humidity','sunshine']\n",
    "df2 = pd.DataFrame(df,columns=features)\n",
    "\n",
    "scaler = StandardScaler()\n",
    "scaler.fit(df2)\n",
    "df1_scaled = scaler.transform(df2) # fit, transform을 따로하지 않고 fit_transform 이렇게 해도 결과는 같다.\n",
    "# df1_scaled은 타입이 numpy.ndarray인데 이것은 head() 메소드 작동을 못함으로 DataFrame 형식으로 바꿔주어야한다. \n",
    "\n",
    "df1 = pd.DataFrame(data = df1_scaled, columns =['mosquito','temp','rain_per_day','accum_rain','wind','humidity','sunshine'])\n",
    "df1.head()"
   ]
  },
  {
   "cell_type": "code",
   "execution_count": 66,
   "id": "08c6f79e",
   "metadata": {},
   "outputs": [],
   "source": [
    "df_X = df1.drop(['mosquito'], axis=1)\n",
    "df_y = df1['mosquito']"
   ]
  },
  {
   "cell_type": "code",
   "execution_count": 67,
   "id": "f707165e",
   "metadata": {},
   "outputs": [],
   "source": [
    "from sklearn.model_selection import train_test_split\n",
    "\n",
    "X_train, X_test, y_train, y_test = train_test_split(df_X, df_y, test_size=0.3, random_state=121)"
   ]
  },
  {
   "cell_type": "code",
   "execution_count": 69,
   "id": "a3d278aa",
   "metadata": {},
   "outputs": [
    {
     "name": "stdout",
     "output_type": "stream",
     "text": [
      "Best Iteration: 40\n",
      "RMSE: 0.615\n",
      "R2: 0.743\n"
     ]
    }
   ],
   "source": [
    "import lightgbm as lgb\n",
    "import numpy as np\n",
    "from sklearn.metrics import r2_score,mean_squared_error, mean_absolute_error\n",
    "\n",
    "gbm = lgb.LGBMRegressor(n_estimators = 64)\n",
    "gbm.fit(X_train, y_train, eval_metric = 'l2', eval_set = [(X_test, y_test)], early_stopping_rounds = 10, verbose = False)\n",
    "\n",
    "y_pred = gbm.predict(X_test, num_iteration = gbm.best_iteration_)\n",
    "print('Best Iteration:', gbm.best_iteration_)\n",
    "print('RMSE: {:.3f}'.format(np.sqrt(mean_squared_error(y_test, y_pred))))\n",
    "print('R2: {:.3f}'.format(np.sqrt(r2_score(y_test, y_pred))))"
   ]
  },
  {
   "cell_type": "code",
   "execution_count": 54,
   "id": "49077d50",
   "metadata": {},
   "outputs": [
    {
     "name": "stdout",
     "output_type": "stream",
     "text": [
      "[LightGBM] [Warning] feature_fraction is set=0.2319, colsample_bytree=1.0 will be ignored. Current value: feature_fraction=0.2319\n",
      "[LightGBM] [Warning] min_data_in_leaf is set=6, min_child_samples=20 will be ignored. Current value: min_data_in_leaf=6\n",
      "[LightGBM] [Warning] min_sum_hessian_in_leaf is set=11, min_child_weight=0.001 will be ignored. Current value: min_sum_hessian_in_leaf=11\n",
      "[LightGBM] [Warning] bagging_fraction is set=0.8, subsample=1.0 will be ignored. Current value: bagging_fraction=0.8\n",
      "[LightGBM] [Warning] bagging_freq is set=5, subsample_freq=0 will be ignored. Current value: bagging_freq=5\n",
      "Best Iteration: 168\n",
      "RMSE: 0.748\n",
      "R2: 0.581\n"
     ]
    }
   ],
   "source": [
    "import lightgbm as lgb\n",
    "import numpy as np\n",
    "from sklearn.metrics import r2_score,mean_squared_error, mean_absolute_error\n",
    "\n",
    "gbm = lgb.LGBMRegressor(objective='regression',num_leaves=5,\n",
    "                              learning_rate=0.05, n_estimators=720,\n",
    "                              max_bin = 55, bagging_fraction = 0.8,\n",
    "                              bagging_freq = 5, feature_fraction = 0.2319,\n",
    "                              feature_fraction_seed=9, bagging_seed=9,\n",
    "                              min_data_in_leaf =6, min_sum_hessian_in_leaf = 11)\n",
    "gbm.fit(X_train, y_train, eval_metric = 'l2', eval_set = [(X_test, y_test)], early_stopping_rounds = 10, verbose = False)\n",
    "\n",
    "y_pred = gbm.predict(X_test, num_iteration = gbm.best_iteration_)\n",
    "print('Best Iteration:', gbm.best_iteration_)\n",
    "print('RMSE: {:.3f}'.format(np.sqrt(mean_squared_error(y_test, y_pred))))\n",
    "print('R2: {:.3f}'.format(np.sqrt(r2_score(y_test, y_pred))))"
   ]
  },
  {
   "cell_type": "code",
   "execution_count": 56,
   "id": "665bf9ec",
   "metadata": {},
   "outputs": [
    {
     "data": {
      "text/plain": [
       "<matplotlib.axes._subplots.AxesSubplot at 0x1d0b6791790>"
      ]
     },
     "execution_count": 56,
     "metadata": {},
     "output_type": "execute_result"
    },
    {
     "data": {
      "image/png": "[encoded data removed]",
      "text/plain": [
       "<Figure size 720x864 with 1 Axes>"
      ]
     },
     "metadata": {
      "needs_background": "light"
     },
     "output_type": "display_data"
    }
   ],
   "source": [
    "from lightgbm import plot_importance\n",
    "import matplotlib.pyplot as plt\n",
    "#%matplotlib inline\n",
    "\n",
    "fig, ax = plt.subplots(figsize = (10,12))\n",
    "plot_importance(gbm, ax=ax)"
   ]
  },
  {
   "cell_type": "code",
   "execution_count": null,
   "id": "5b10c4d3",
   "metadata": {},
   "outputs": [],
   "source": []
  }
 ],
 "metadata": {
  "kernelspec": {
   "display_name": "Python 3",
   "language": "python",
   "name": "python3"
  },
  "language_info": {
   "codemirror_mode": {
    "name": "ipython",
    "version": 3
   },
   "file_extension": ".py",
   "mimetype": "text/x-python",
   "name": "python",
   "nbconvert_exporter": "python",
   "pygments_lexer": "ipython3",
   "version": "3.8.3"
  }
 },
 "nbformat": 4,
 "nbformat_minor": 5
}
