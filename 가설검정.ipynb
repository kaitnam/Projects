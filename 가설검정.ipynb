{
 "cells": [
  {
   "cell_type": "code",
   "execution_count": 1,
   "id": "19aa2ad6",
   "metadata": {},
   "outputs": [],
   "source": [
    "import pandas as pd\n",
    "df = pd.read_csv(\"E:/21KDT-Project-master/4. dms_seoul_avg.csv\")"
   ]
  },
  {
   "cell_type": "code",
   "execution_count": 2,
   "id": "e3358281",
   "metadata": {
    "scrolled": true
   },
   "outputs": [
    {
     "data": {
      "text/html": [
       "<div>\n",
       "<style scoped>\n",
       "    .dataframe tbody tr th:only-of-type {\n",
       "        vertical-align: middle;\n",
       "    }\n",
       "\n",
       "    .dataframe tbody tr th {\n",
       "        vertical-align: top;\n",
       "    }\n",
       "\n",
       "    .dataframe thead th {\n",
       "        text-align: right;\n",
       "    }\n",
       "</style>\n",
       "<table border=\"1\" class=\"dataframe\">\n",
       "  <thead>\n",
       "    <tr style=\"text-align: right;\">\n",
       "      <th></th>\n",
       "      <th>date</th>\n",
       "      <th>mosquito</th>\n",
       "      <th>temp</th>\n",
       "      <th>rain_per_day</th>\n",
       "      <th>accum_rain</th>\n",
       "      <th>wind</th>\n",
       "      <th>humidity</th>\n",
       "      <th>sunshine</th>\n",
       "    </tr>\n",
       "  </thead>\n",
       "  <tbody>\n",
       "    <tr>\n",
       "      <th>0</th>\n",
       "      <td>2015-04-06</td>\n",
       "      <td>199</td>\n",
       "      <td>12.214286</td>\n",
       "      <td>5.285714</td>\n",
       "      <td>0</td>\n",
       "      <td>3.371429</td>\n",
       "      <td>68.757143</td>\n",
       "      <td>8.880000</td>\n",
       "    </tr>\n",
       "    <tr>\n",
       "      <th>1</th>\n",
       "      <td>2015-04-07</td>\n",
       "      <td>146</td>\n",
       "      <td>11.571429</td>\n",
       "      <td>4.928571</td>\n",
       "      <td>0</td>\n",
       "      <td>3.428571</td>\n",
       "      <td>65.742857</td>\n",
       "      <td>9.891429</td>\n",
       "    </tr>\n",
       "    <tr>\n",
       "      <th>2</th>\n",
       "      <td>2015-04-08</td>\n",
       "      <td>90</td>\n",
       "      <td>10.914286</td>\n",
       "      <td>4.571429</td>\n",
       "      <td>0</td>\n",
       "      <td>3.257143</td>\n",
       "      <td>63.542857</td>\n",
       "      <td>9.927143</td>\n",
       "    </tr>\n",
       "    <tr>\n",
       "      <th>3</th>\n",
       "      <td>2015-04-09</td>\n",
       "      <td>172</td>\n",
       "      <td>10.171429</td>\n",
       "      <td>0.571429</td>\n",
       "      <td>0</td>\n",
       "      <td>2.871429</td>\n",
       "      <td>59.614286</td>\n",
       "      <td>10.884286</td>\n",
       "    </tr>\n",
       "    <tr>\n",
       "      <th>4</th>\n",
       "      <td>2015-04-10</td>\n",
       "      <td>249</td>\n",
       "      <td>10.314286</td>\n",
       "      <td>0.071429</td>\n",
       "      <td>0</td>\n",
       "      <td>2.871429</td>\n",
       "      <td>53.485714</td>\n",
       "      <td>12.777143</td>\n",
       "    </tr>\n",
       "  </tbody>\n",
       "</table>\n",
       "</div>"
      ],
      "text/plain": [
       "         date  mosquito       temp  rain_per_day  accum_rain      wind  \\\n",
       "0  2015-04-06       199  12.214286      5.285714           0  3.371429   \n",
       "1  2015-04-07       146  11.571429      4.928571           0  3.428571   \n",
       "2  2015-04-08        90  10.914286      4.571429           0  3.257143   \n",
       "3  2015-04-09       172  10.171429      0.571429           0  2.871429   \n",
       "4  2015-04-10       249  10.314286      0.071429           0  2.871429   \n",
       "\n",
       "    humidity   sunshine  \n",
       "0  68.757143   8.880000  \n",
       "1  65.742857   9.891429  \n",
       "2  63.542857   9.927143  \n",
       "3  59.614286  10.884286  \n",
       "4  53.485714  12.777143  "
      ]
     },
     "execution_count": 2,
     "metadata": {},
     "output_type": "execute_result"
    }
   ],
   "source": [
    "df.head()"
   ]
  },
  {
   "cell_type": "code",
   "execution_count": 3,
   "id": "26961110",
   "metadata": {},
   "outputs": [],
   "source": [
    "Y = df['mosquito'].values \n",
    "X = df['sunshine'].values "
   ]
  },
  {
   "cell_type": "markdown",
   "id": "242d5b1c",
   "metadata": {},
   "source": [
    "## 독립비교 t 검정 사용"
   ]
  },
  {
   "cell_type": "markdown",
   "id": "acf43875",
   "metadata": {},
   "source": [
    "- 독립비교 t 검정(t_test)이란 대응하는 데이터가 없고 독립된 두개의 표본 모집단에 정규분포를 가정할 수 있는 경우 평균값의 차이에 대한 검정\n",
    "- t값이 클수록 두 집단의 평균은 차이가 있다고 판단하고 p-value 값이 설정한 유의수준(0.05)보다 작을 경우 95% 신뢰수준에서 두 집단의 평균   이 \n",
    "  유의미하게 차이가 있다고 해석함. 결과 해석은 직관적으로 판단할수 있는 p-value를 주로 사용함!\n",
    "- 유의수준(α) 을 0.05라고 가정할 때 유의확률(p값, p-value)이 0.05보다 작으면 평균 차이가 유의미한 것으로 해석되어 귀무가설을 기각함."
   ]
  },
  {
   "cell_type": "code",
   "execution_count": null,
   "id": "ed96bbee",
   "metadata": {},
   "outputs": [],
   "source": [
    "import scipy.stats as stats"
   ]
  },
  {
   "cell_type": "code",
   "execution_count": 7,
   "id": "606eb298",
   "metadata": {},
   "outputs": [
    {
     "data": {
      "text/plain": [
       "(46.26968606154769, 1.0279785325437182e-266)"
      ]
     },
     "execution_count": 7,
     "metadata": {},
     "output_type": "execute_result"
    }
   ],
   "source": [
    "t, p = stats.ttest_ind(df['mosquito'], df['temp'], equal_var=False)\n",
    "\n",
    "t, p"
   ]
  },
  {
   "cell_type": "code",
   "execution_count": 8,
   "id": "80749086",
   "metadata": {},
   "outputs": [
    {
     "data": {
      "text/plain": [
       "(46.50744642744408, 2.095287559577762e-268)"
      ]
     },
     "execution_count": 8,
     "metadata": {},
     "output_type": "execute_result"
    }
   ],
   "source": [
    "t, p = stats.ttest_ind(df['mosquito'], df['rain_per_day'], equal_var=False)\n",
    "\n",
    "t, p"
   ]
  },
  {
   "cell_type": "code",
   "execution_count": 9,
   "id": "119421ec",
   "metadata": {},
   "outputs": [
    {
     "data": {
      "text/plain": [
       "(46.46177641428918, 4.2733392877839856e-268)"
      ]
     },
     "execution_count": 9,
     "metadata": {},
     "output_type": "execute_result"
    }
   ],
   "source": [
    "t, p = stats.ttest_ind(df['mosquito'], df['accum_rain'], equal_var=False)\n",
    "\n",
    "t, p"
   ]
  },
  {
   "cell_type": "code",
   "execution_count": 10,
   "id": "23713ed1",
   "metadata": {},
   "outputs": [
    {
     "data": {
      "text/plain": [
       "(46.543535763156555, 1.1661190804792576e-268)"
      ]
     },
     "execution_count": 10,
     "metadata": {},
     "output_type": "execute_result"
    }
   ],
   "source": [
    "t, p = stats.ttest_ind(df['mosquito'], df['wind'], equal_var=False)\n",
    "\n",
    "t, p"
   ]
  },
  {
   "cell_type": "code",
   "execution_count": 11,
   "id": "d34e15e7",
   "metadata": {},
   "outputs": [
    {
     "data": {
      "text/plain": [
       "(45.68766497307084, 1.433559439095175e-262)"
      ]
     },
     "execution_count": 11,
     "metadata": {},
     "output_type": "execute_result"
    }
   ],
   "source": [
    "t, p = stats.ttest_ind(df['mosquito'], df['humidity'], equal_var=False)\n",
    "\n",
    "t, p"
   ]
  },
  {
   "cell_type": "code",
   "execution_count": 12,
   "id": "487c9d54",
   "metadata": {},
   "outputs": [
    {
     "data": {
      "text/plain": [
       "(46.35342160844366, 2.610379071549505e-267)"
      ]
     },
     "execution_count": 12,
     "metadata": {},
     "output_type": "execute_result"
    }
   ],
   "source": [
    "t, p = stats.ttest_ind(df['mosquito'], df['sunshine'], equal_var=False)\n",
    "\n",
    "t, p"
   ]
  },
  {
   "cell_type": "markdown",
   "id": "a2526b26",
   "metadata": {},
   "source": [
    "### 'mosquito'와 다른 변수들간의 t 검정을 한 결과 p-value가 0.05 유의수준보다 낮으므로 귀무가설을 기각한다."
   ]
  }
 ],
 "metadata": {
  "kernelspec": {
   "display_name": "Python 3",
   "language": "python",
   "name": "python3"
  },
  "language_info": {
   "codemirror_mode": {
    "name": "ipython",
    "version": 3
   },
   "file_extension": ".py",
   "mimetype": "text/x-python",
   "name": "python",
   "nbconvert_exporter": "python",
   "pygments_lexer": "ipython3",
   "version": "3.8.3"
  }
 },
 "nbformat": 4,
 "nbformat_minor": 5
}
